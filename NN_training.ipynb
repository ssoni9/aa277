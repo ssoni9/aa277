{
 "cells": [
  {
   "cell_type": "code",
   "execution_count": 2,
   "metadata": {},
   "outputs": [],
   "source": [
    "import tensorflow as tf\n",
    "from tensorflow import keras\n",
    "from tensorflow.keras import layers\n",
    "import numpy as np\n",
    "import pandas as pd\n",
    "from keras.models import Sequential\n",
    "from keras.layers import Dense, Conv2D,MaxPool2D,Dropout,Flatten\n",
    "from keras.callbacks import History\n",
    "from keras.optimizers import Adam\n",
    "from keras.utils import to_categorical\n",
    "import matplotlib.pyplot as plt\n",
    "from keras.utils.vis_utils import plot_model\n",
    "from keras.models import load_model\n",
    "from keras.initializers import glorot_uniform\n",
    "import os\n",
    "from ann_visualizer.visualize import ann_viz;\n",
    "from matplotlib import pyplot as plt\n"
   ]
  },
  {
   "cell_type": "code",
   "execution_count": null,
   "metadata": {},
   "outputs": [],
   "source": [
    "\"Read the .csv file\"\n",
    "data = pd.read_csv('data.txt', header = None, sep='\\t')"
   ]
  },
  {
   "cell_type": "code",
   "execution_count": null,
   "metadata": {},
   "outputs": [],
   "source": [
    "min_val = data[2].min()\n",
    "min_val"
   ]
  },
  {
   "cell_type": "code",
   "execution_count": null,
   "metadata": {},
   "outputs": [],
   "source": [
    "data[2] = data[2] / abs(min_val)"
   ]
  },
  {
   "cell_type": "code",
   "execution_count": null,
   "metadata": {},
   "outputs": [],
   "source": [
    "\" Select random data for training: \"\n",
    "idx = np.random.choice(np.arange(len(data.values)), int(0.9 * len(data.values)), replace=False)\n",
    "\n",
    "\" Assign training dataset:  \"\n",
    "train_in = data.values[idx, 0:2]\n",
    "train_out = data.values[idx, 2]\n",
    "\n",
    "\" Assign testing dataset: \"\n",
    "test_data = np.delete(data.values, idx, 0)\n",
    "test_in = test_data[:, 0:2]\n",
    "test_out = test_data[:, 2]"
   ]
  },
  {
   "cell_type": "code",
   "execution_count": null,
   "metadata": {},
   "outputs": [],
   "source": [
    "train_in"
   ]
  },
  {
   "cell_type": "code",
   "execution_count": null,
   "metadata": {},
   "outputs": [],
   "source": [
    "\"Define optimizer here\"\n",
    "adam = Adam(lr = 0.005)\n",
    "history = History()\n",
    "\n",
    "\"Define Neural Network here\"\n",
    "nnet = Sequential()\n",
    "\n",
    "\"Create Neural Network architecture\"\n",
    "\"Input: Distance b/w the two robots - dim = 4\"\n",
    "\"Output: Noise acceleration - dim = 1\"\n",
    "initializer = glorot_uniform()\n",
    "nnet.add(Dense(4, kernel_initializer = initializer,input_dim = 2, activation = 'sigmoid'))\n",
    "nnet.add(Dense(12, activation = 'sigmoid'))\n",
    "nnet.add(Dense(16, activation = 'sigmoid'))\n",
    "nnet.add(Dense(24, activation = 'sigmoid'))\n",
    "nnet.add(Dense(12, activation = 'sigmoid'))\n",
    "nnet.add(Dense(8, activation = 'sigmoid'))\n",
    "nnet.add(Dense(4, activation = 'sigmoid'))\n",
    "nnet.add(Dense(1, activation = 'tanh'))\n",
    "\n",
    "\"Compile the Neural Network\"\n",
    "nnet.compile(loss = 'mean_squared_error', optimizer = 'adam', metrics = ['mse'])\n",
    "\n"
   ]
  },
  {
   "cell_type": "code",
   "execution_count": 8,
   "metadata": {},
   "outputs": [
    {
     "name": "stdout",
     "output_type": "stream",
     "text": [
      "_________________________________________________________________\n",
      "Layer (type)                 Output Shape              Param #   \n",
      "=================================================================\n",
      "dense_9 (Dense)              (None, 4)                 12        \n",
      "_________________________________________________________________\n",
      "dense_10 (Dense)             (None, 12)                60        \n",
      "_________________________________________________________________\n",
      "dense_11 (Dense)             (None, 16)                208       \n",
      "_________________________________________________________________\n",
      "dense_12 (Dense)             (None, 24)                408       \n",
      "_________________________________________________________________\n",
      "dense_13 (Dense)             (None, 12)                300       \n",
      "_________________________________________________________________\n",
      "dense_14 (Dense)             (None, 8)                 104       \n",
      "_________________________________________________________________\n",
      "dense_15 (Dense)             (None, 4)                 36        \n",
      "_________________________________________________________________\n",
      "dense_16 (Dense)             (None, 1)                 5         \n",
      "=================================================================\n",
      "Total params: 1,133\n",
      "Trainable params: 1,133\n",
      "Non-trainable params: 0\n",
      "_________________________________________________________________\n"
     ]
    },
    {
     "ename": "AttributeError",
     "evalue": "'NoneType' object has no attribute 'image'",
     "output_type": "error",
     "traceback": [
      "\u001b[0;31m---------------------------------------------------------------------------\u001b[0m",
      "\u001b[0;31mAttributeError\u001b[0m                            Traceback (most recent call last)",
      "\u001b[0;32m<ipython-input-8-ba6e43524078>\u001b[0m in \u001b[0;36m<module>\u001b[0;34m\u001b[0m\n\u001b[1;32m      1\u001b[0m \u001b[0;34m\"Print Model Summary\"\u001b[0m\u001b[0;34m\u001b[0m\u001b[0;34m\u001b[0m\u001b[0m\n\u001b[0;32m----> 2\u001b[0;31m \u001b[0mprint\u001b[0m\u001b[0;34m(\u001b[0m\u001b[0mnnet\u001b[0m\u001b[0;34m.\u001b[0m\u001b[0msummary\u001b[0m\u001b[0;34m(\u001b[0m\u001b[0;34m)\u001b[0m\u001b[0;34m.\u001b[0m\u001b[0mimage\u001b[0m\u001b[0;34m(\u001b[0m\u001b[0;34m)\u001b[0m\u001b[0;34m)\u001b[0m\u001b[0;34m\u001b[0m\u001b[0;34m\u001b[0m\u001b[0m\n\u001b[0m",
      "\u001b[0;31mAttributeError\u001b[0m: 'NoneType' object has no attribute 'image'"
     ]
    }
   ],
   "source": [
    "\"Print Model Summary\"\n",
    "print(nnet.summary())"
   ]
  },
  {
   "cell_type": "code",
   "execution_count": null,
   "metadata": {},
   "outputs": [],
   "source": [
    "\"Run Curve fitting on the previously defined Neural Network\"\n",
    "nnet.fit(train_in, train_out, epochs=1000, batch_size=1000, callbacks=[history], verbose=1)\n",
    "train_loss = history.history['loss']\n"
   ]
  },
  {
   "cell_type": "code",
   "execution_count": null,
   "metadata": {},
   "outputs": [],
   "source": [
    "\"Evaluate the newly created Neural Network using the testing dataset as defined earlier\"\n",
    "scores = nnet.evaluate(test_in, test_out)\n",
    "train_loss = np.array(train_loss)\n",
    "\n",
    "\"Print the necessary Neural Network evaluation metrics\"\n",
    "print(\"\\n%s: %0.2e\" % (nnet.metrics_names[1], scores[1]))"
   ]
  },
  {
   "cell_type": "code",
   "execution_count": null,
   "metadata": {},
   "outputs": [],
   "source": [
    "plt.plot(train_loss)\n",
    "plt.show()\n",
    "plt.plot(scores)"
   ]
  },
  {
   "cell_type": "code",
   "execution_count": null,
   "metadata": {},
   "outputs": [],
   "source": [
    "\" Try Data: \"\n",
    "N = 1000\n",
    "dx = np.linspace(-10, 10, N).reshape([-1, 1])\n",
    "dy = (np.ones(N)*1).reshape([-1, 1])\n",
    "data_in = np.concatenate((dx, dy), axis = 1)\n",
    "\n",
    "data_out = nnet.predict(data_in)\n",
    "plt.plot(dx, data_out)"
   ]
  },
  {
   "cell_type": "code",
   "execution_count": null,
   "metadata": {},
   "outputs": [],
   "source": [
    "\"Save Model\"\n",
    "nnet.save(\"my_model_2.h5\")\n"
   ]
  },
  {
   "cell_type": "code",
   "execution_count": 4,
   "metadata": {},
   "outputs": [],
   "source": [
    "\"Load Model\"\n",
    "nnet = load_model('my_model_2.h5')"
   ]
  },
  {
   "cell_type": "code",
   "execution_count": 10,
   "metadata": {},
   "outputs": [],
   "source": [
    "input = tf.keras.Input(shape=(100,), dtype='int32', name='input')\n",
    "x = tf.keras.layers.Embedding(\n",
    "    output_dim=512, input_dim=10000, input_length=100)(input)\n",
    "x = tf.keras.layers.LSTM(32)(x)\n",
    "x = tf.keras.layers.Dense(64, activation='relu')(x)\n",
    "x = tf.keras.layers.Dense(64, activation='relu')(x)\n",
    "x = tf.keras.layers.Dense(64, activation='relu')(x)\n",
    "output = tf.keras.layers.Dense(1, activation='sigmoid', name='output')(x)\n",
    "model = tf.keras.Model(nnet)\n",
    "\n",
    "plot_model(nnet, show_shapes=True, show_layer_names=False, rankdir='UD')"
   ]
  },
  {
   "cell_type": "code",
   "execution_count": null,
   "metadata": {},
   "outputs": [],
   "source": [
    "plt.plot(train_out)"
   ]
  },
  {
   "cell_type": "code",
   "execution_count": null,
   "metadata": {},
   "outputs": [],
   "source": [
    "data_in.shape"
   ]
  },
  {
   "cell_type": "code",
   "execution_count": null,
   "metadata": {},
   "outputs": [],
   "source": [
    "np.random.randint(4, size=(4,5))"
   ]
  },
  {
   "cell_type": "code",
   "execution_count": null,
   "metadata": {},
   "outputs": [],
   "source": [
    "d = 5\n",
    "x = np.array([[0, 0], [d, 0], [d, d], [0, d], [0, 2*d]]).T\n",
    "x"
   ]
  },
  {
   "cell_type": "code",
   "execution_count": null,
   "metadata": {},
   "outputs": [],
   "source": [
    "plt.plot(x[0,:], x[1,:],'.')"
   ]
  },
  {
   "cell_type": "code",
   "execution_count": null,
   "metadata": {},
   "outputs": [],
   "source": [
    "def compute_dist_comp_matrix(pos_diff_y):\n",
    "    num_agents = 5\n",
    "    W = np.zeros((num_agents, num_agents))\n",
    "    for ii in range(num_agents):\n",
    "        for jj in range(num_agents):\n",
    "            if pos_diff_y[ii, jj] < 0:\n",
    "                W[ii, jj] = 1\n",
    "            else:\n",
    "                W[ii, jj] = 0\n",
    "    return W"
   ]
  },
  {
   "cell_type": "code",
   "execution_count": null,
   "metadata": {},
   "outputs": [],
   "source": [
    "def compute_pos_diff_matrix(x, y):\n",
    "    num_agents = 5\n",
    "    del_x = np.zeros((num_agents, num_agents))\n",
    "    del_y = np.zeros((num_agents, num_agents))\n",
    "    for ii in range(num_agents):\n",
    "        for jj in range(num_agents):\n",
    "            del_x[ii, jj] = x[jj] - x[ii]\n",
    "            del_y[ii, jj] = y[jj] - y[ii]\n",
    "            \n",
    "    return del_x, del_y"
   ]
  },
  {
   "cell_type": "code",
   "execution_count": null,
   "metadata": {},
   "outputs": [],
   "source": [
    "def compute_dist_comp_mat(W, dx, dy):\n",
    "    num_agents = 5\n",
    "    dist_comp_mat = np.zeros((num_agents, num_agents))\n",
    "    for ii in range(num_agents):\n",
    "        for jj in range(num_agents):\n",
    "            dist = downwash(dx[ii, jj], dy[ii, jj], sigma)\n",
    "            comp = nnet.predict(np.array[dx[ii, jj], dy[ii, jj]]).reshape(1,2)\n",
    "            dist_comp_mat[ii, jj] = 2*W[ii, jj]*(dist - 2.935402561181967**2*comp)\n",
    "    \n",
    "    return dist_comp_mat"
   ]
  },
  {
   "cell_type": "code",
   "execution_count": null,
   "metadata": {},
   "outputs": [],
   "source": [
    "def compute_tot_dist_comp(M):\n",
    "    return M.sum(axis=1).reshape(-1,1)"
   ]
  },
  {
   "cell_type": "code",
   "execution_count": null,
   "metadata": {},
   "outputs": [],
   "source": [
    "M = np.array([[1,2,3],[4,5,6]])\n",
    "M"
   ]
  },
  {
   "cell_type": "code",
   "execution_count": null,
   "metadata": {},
   "outputs": [],
   "source": [
    "M.sum(axis=1).reshape(-1,1)"
   ]
  },
  {
   "cell_type": "code",
   "execution_count": null,
   "metadata": {},
   "outputs": [],
   "source": [
    "MM=compute_tot_dist_comp(M)"
   ]
  },
  {
   "cell_type": "code",
   "execution_count": null,
   "metadata": {},
   "outputs": [],
   "source": [
    "MM.shape"
   ]
  },
  {
   "cell_type": "code",
   "execution_count": null,
   "metadata": {},
   "outputs": [],
   "source": []
  },
  {
   "cell_type": "code",
   "execution_count": null,
   "metadata": {},
   "outputs": [],
   "source": []
  }
 ],
 "metadata": {
  "kernelspec": {
   "display_name": "Python 3",
   "language": "python",
   "name": "python3"
  },
  "language_info": {
   "codemirror_mode": {
    "name": "ipython",
    "version": 3
   },
   "file_extension": ".py",
   "mimetype": "text/x-python",
   "name": "python",
   "nbconvert_exporter": "python",
   "pygments_lexer": "ipython3",
   "version": "3.7.4"
  }
 },
 "nbformat": 4,
 "nbformat_minor": 4
}
