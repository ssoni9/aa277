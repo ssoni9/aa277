{
 "cells": [
  {
   "cell_type": "code",
   "execution_count": 1,
   "metadata": {
    "collapsed": true,
    "jupyter": {
     "outputs_hidden": true
    }
   },
   "outputs": [],
   "source": [
    "import numpy as np\n",
    "import cvxpy as cp\n",
    "import matplotlib.pyplot as plt\n",
    "np.random.seed(5)"
   ]
  },
  {
   "cell_type": "code",
   "execution_count": 2,
   "metadata": {
    "collapsed": true,
    "jupyter": {
     "outputs_hidden": true
    }
   },
   "outputs": [
    {
     "data": {
      "image/png": "[encoded data removed]",
      "text/plain": [
       "<Figure size 432x288 with 1 Axes>"
      ]
     },
     "metadata": {
      "needs_background": "light"
     },
     "output_type": "display_data"
    }
   ],
   "source": [
    "# assume a very simple double integrator dynamics, dx=Ax+Bu, x = [x,dx,y,dy]\n",
    "dt = 0.2\n",
    "A = np.array([[1, dt, 0, 0],\n",
    "              [0, 1, 0, 0], \n",
    "              [0, 0, 1, dt], \n",
    "              [0, 0, 0, 1]])\n",
    "B = np.array([[0, 0],\n",
    "              [dt, 0],\n",
    "              [0, 0],\n",
    "              [0, dt]])\n",
    "# assume some random initial position\n",
    "num_agent = 5\n",
    "m,n = B.shape\n",
    "# px_init = np.random.rand(num_agent)*100\n",
    "# py_init = np.random.rand(num_agent)*100\n",
    "px_init = np.array([20, 20, 22, 22, 20]).T\n",
    "py_init = np.array([20, 18, 18, 16, 16]).T\n",
    "x_init = np.zeros((m,num_agent))\n",
    "x_init[0] = px_init\n",
    "x_init[2] = py_init\n",
    "priority = np.arange(num_agent)\n",
    "# np.random.shuffle(priority)\n",
    "plt.scatter(px_init,py_init)\n",
    "plt.show()"
   ]
  },
  {
   "cell_type": "code",
   "execution_count": 3,
   "metadata": {
    "collapsed": true,
    "jupyter": {
     "outputs_hidden": true
    }
   },
   "outputs": [],
   "source": [
    "def Decentralized_CP(A,B,x_init,x_fin,Umax,Vmax,T,dt,R_col,x_nom,x_neigbs_p,collision_check):\n",
    "    m, n = B.shape\n",
    "    G = np.array([\n",
    "        [1,0,0,0],\n",
    "        [0,0,1,0]\n",
    "    ])\n",
    "    H = np.array([\n",
    "        [0,1,0,0],\n",
    "        [0,0,0,1]\n",
    "    ])\n",
    "    x = cp.Variable((T,m))\n",
    "    u = cp.Variable((T-1,n))\n",
    "    objective = cp.Minimize(cp.sum(cp.norm(u,axis=1))*dt)\n",
    "    constraints = [ x[0] == x_init, x[T-1] == x_fin ]\n",
    "    for k in range(T-1):\n",
    "        constraints.append( x[k+1] == A@x[k] + B@u[k] )\n",
    "        constraints.append( cp.norm(u[k]) <= Umax )\n",
    "        constraints.append( cp.norm(H@x[k+1]) <= Vmax)\n",
    "        if len(x_neigbs_p) != 0 and collision_check:\n",
    "            for x_neigb in x_neigbs_p:\n",
    "                x_neigb = x_neigb.T\n",
    "#                 print(R_col*np.linalg.norm(x_nom[k]-x_neigb[k]))\n",
    "#                 print(G@(x_nom[k]-x_neigb[k]))\n",
    "                constraints.append( (x_nom[k]-x_neigb[k]).T@G.T@G@(x[k]-x_neigb[k]) >= R_col*cp.norm(G@(x_nom[k]-x_neigb[k])) )\n",
    "    \n",
    "    prob = cp.Problem(objective,constraints)\n",
    "    prob.solve()\n",
    "    return x.value, u.value, prob.value, prob.status\n",
    "    \n",
    "def compute_laplacian(x,R_com):\n",
    "    _, num_agent = x.shape\n",
    "    L = np.zeros((num_agent,num_agent))\n",
    "    px, py = x[0].reshape(1,-1), x[2].reshape(1,-1)\n",
    "    dist = np.sqrt((px-px.T)**2+(py-py.T)**2)\n",
    "    L[dist <= R_com] = 1\n",
    "    L -= np.diag(np.ones((num_agent)))\n",
    "    return L\n",
    "\n",
    "\n",
    "def communicate_traj(L,priority,K,x_nom):\n",
    "    communication = {}\n",
    "    for agent_i in K:\n",
    "        communication[agent_i] = []\n",
    "        for agent_j in K:\n",
    "            if L[agent_i,agent_j] == 1 and priority[agent_i] < priority[agent_j]: \n",
    "                communication[agent_i].append(x_nom[agent_j,:,:])\n",
    "    return communication\n",
    "\n",
    "def check_collision(L,prioprity,x_i,x_nom,agent_i,K,R_col):\n",
    "    is_collision = []\n",
    "    for agent_j in K:\n",
    "            if L[agent_i,agent_j] == 1 and priority[agent_i] < priority[agent_j]:\n",
    "                px_i = x_i[0]\n",
    "                py_i = x_i[2]\n",
    "                px_j = x_nom[agent_j][0]\n",
    "                py_j = x_nom[agent_j][2]\n",
    "                is_collision.append(np.linalg.norm((px_i-px_j,py_i-py_j),axis=0))\n",
    "    return np.all(np.array(is_collision) > R_col)"
   ]
  },
  {
   "cell_type": "code",
   "execution_count": 4,
   "metadata": {
    "collapsed": true,
    "jupyter": {
     "outputs_hidden": true
    }
   },
   "outputs": [
    {
     "data": {
      "image/png": "[encoded data removed]",
      "text/plain": [
       "<Figure size 432x288 with 1 Axes>"
      ]
     },
     "metadata": {
      "needs_background": "light"
     },
     "output_type": "display_data"
    }
   ],
   "source": [
    "## Temporary\n",
    "# p_fin = np.loadtxt('S1.txt',delimiter='\\t')\n",
    "T = 30\n",
    "px_fin = np.array([22, 20, 20, 22, 22])\n",
    "py_fin = np.array([20, 20, 18, 18, 16])\n",
    "# px_fin = np.random.rand(num_agent)*100\n",
    "# py_fin = np.random.rand(num_agent)*100\n",
    "x_fin = np.zeros((m,num_agent))\n",
    "x_fin[0] = px_fin\n",
    "x_fin[2] = py_fin\n",
    "Umax = 5\n",
    "R_col = 0.01\n",
    "R_com = 10\n",
    "Vmax = 10\n",
    "plt.scatter(px_fin,py_fin)\n",
    "plt.show()"
   ]
  },
  {
   "cell_type": "code",
   "execution_count": 5,
   "metadata": {
    "collapsed": true,
    "jupyter": {
     "outputs_hidden": true
    }
   },
   "outputs": [],
   "source": [
    "def Swarm_SCP(A,B,num_agent,x_init,x_fin,Umax,Vmax,T,dt,R_col,R_com,priority,collision_check):\n",
    "    m,n = B.shape\n",
    "    eps = 1e-3\n",
    "    K = np.arange(num_agent).tolist()\n",
    "    K_const = np.copy(K)\n",
    "    x_nom = np.zeros((num_agent,m,T))\n",
    "    u_nom = np.zeros((num_agent,n,T-1))\n",
    "    all_cost = np.zeros((num_agent,T-1))\n",
    "    x_neigbs_p = []\n",
    "    for agent in K:\n",
    "        x_agent, u_agent, _, _ = Decentralized_CP(A,B,x_init[:,agent],x_fin[:,agent],Umax,Vmax,T,dt,R_col,\n",
    "                                               x_nom[agent].T,x_neigbs_p,collision_check)\n",
    "        x_nom[agent] = x_agent.T\n",
    "\n",
    "    L = compute_laplacian(x_init,R_com)\n",
    "    neigbs_p_all = communicate_traj(L,priority,K,x_nom)\n",
    "    w = 0\n",
    "    while len(K) != 0:\n",
    "        print(w)\n",
    "        for agent in K:\n",
    "            x_nom_prev = np.copy(x_nom)\n",
    "            x_neigbs_p = neigbs_p_all[agent]\n",
    "            x_agent, u_agent, cost, status = Decentralized_CP(A,B,x_init[:,agent],x_fin[:,agent],Umax,Vmax,T,dt,\n",
    "                                                      R_col,x_nom[agent].T,x_neigbs_p,collision_check)\n",
    "            print(status)\n",
    "            if status == 'infeasible':\n",
    "                return x_nom, u_nom, all_cost\n",
    "            x_nom[agent] = x_agent.T\n",
    "            u_nom[agent] = u_agent.T\n",
    "            all_cost[agent] = cost\n",
    "    #     L = compute_laplacian(x_init,R_com)\n",
    "        neigbs_p_all = communicate_traj(L,priority,K_const,x_nom)\n",
    "        K_list = np.copy(K)\n",
    "        K_list = K_list.tolist()\n",
    "        for agent in K_const:\n",
    "            if np.linalg.norm(x_nom[agent]-x_nom_prev[agent],np.inf) < eps and \\\n",
    "            check_collision(L,priority,x_nom[agent],x_nom,agent,K_const,R_col):\n",
    "                K_list.remove(agent)\n",
    "        w += 1\n",
    "        K = np.copy(K_list)\n",
    "        K = K.tolist()\n",
    "    return x_nom, u_nom, all_cost"
   ]
  },
  {
   "cell_type": "code",
   "execution_count": 6,
   "metadata": {
    "collapsed": true,
    "jupyter": {
     "outputs_hidden": true
    }
   },
   "outputs": [
    {
     "name": "stdout",
     "output_type": "stream",
     "text": [
      "0\n",
      "optimal\n",
      "optimal\n",
      "optimal\n",
      "optimal\n",
      "optimal\n"
     ]
    },
    {
     "data": {
      "image/png": "[encoded data removed]",
      "text/plain": [
       "<Figure size 432x288 with 1 Axes>"
      ]
     },
     "metadata": {
      "needs_background": "light"
     },
     "output_type": "display_data"
    }
   ],
   "source": [
    "x_nom,u_nom,all_cost = Swarm_SCP(A,B,num_agent,x_init,x_fin,Umax,Vmax,T,dt,R_col,R_com,priority,True)\n",
    "# for i in range(T):\n",
    "#     plt.scatter(x_nom[:,0,i],x_nom[:,2,i])\n",
    "    \n",
    "for i in range(num_agent):\n",
    "    plt.scatter(x_nom[i,0,:],x_nom[i,2,:])"
   ]
  },
  {
   "cell_type": "code",
   "execution_count": 7,
   "metadata": {
    "collapsed": true,
    "jupyter": {
     "outputs_hidden": true
    }
   },
   "outputs": [],
   "source": [
    "def downwash(dx,dy,sigma):\n",
    "    x_dist = -1/(sigma*np.sqrt(2*np.pi))*np.exp(-(dx/sigma)**2/2)\n",
    "    y_dist = max(0, 6.5-dy/(1*sigma))\n",
    "    return x_dist*y_dist"
   ]
  },
  {
   "cell_type": "code",
   "execution_count": 14,
   "metadata": {
    "collapsed": true,
    "jupyter": {
     "outputs_hidden": true
    }
   },
   "outputs": [
    {
     "name": "stdout",
     "output_type": "stream",
     "text": [
      "0\n",
      "optimal\n",
      "optimal\n",
      "optimal\n",
      "optimal\n",
      "optimal\n",
      "[[ 0.          0.          0.          0.          0.        ]\n",
      " [ 0.          0.02727222 -0.01698228  0.01493884  0.00657946]]\n",
      "[[ 4.16666667e+00 -5.15996662e-12 -4.16666667e+00 -7.84974792e-12\n",
      "   4.16666667e+00]\n",
      " [ 8.74952794e-12  4.16666667e+00 -3.50706695e-11  4.16666667e+00\n",
      "   1.14396753e-15]]\n",
      "0\n",
      "optimal\n",
      "optimal\n",
      "optimal\n",
      "optimal\n",
      "optimal\n",
      "[[ 0.          0.          0.          0.          0.        ]\n",
      " [ 0.          0.02727222 -0.01698228  0.01493884  0.00657946]]\n",
      "[[ 2.70934848e-12 -2.15367750e-12 -6.17657988e-11  8.98786552e-13\n",
      "   5.63340931e-11]\n",
      " [-5.63306114e-13  3.74193981e-11  1.03870593e-12  1.61645259e-11\n",
      "   5.61327376e-17]]\n",
      "0\n",
      "optimal\n",
      "optimal\n",
      "optimal\n",
      "optimal\n",
      "optimal\n",
      "[[ 0.          0.          0.          0.          0.        ]\n",
      " [ 0.          0.02341676 -0.02144536  0.01513493  0.00386007]]\n",
      "[[ 2.68122638e-12 -1.12799152e-12 -8.29029290e-11  5.54160058e-13\n",
      "   5.95542004e-11]\n",
      " [ 7.99883582e-13  2.75733724e-11  1.16044263e-12  2.34297045e-11\n",
      "   7.76636363e-17]]\n",
      "0\n",
      "optimal\n",
      "optimal\n",
      "optimal\n",
      "optimal\n",
      "optimal\n",
      "[[0.         0.         0.         0.         0.        ]\n",
      " [0.         0.01356864 0.00571358 0.00712635 0.02259612]]\n",
      "[[ 3.66715501e-12  3.97194279e-13 -9.36074367e-11  2.33177372e-13\n",
      "   2.12809154e-10]\n",
      " [-1.85536566e-12 -8.93563803e-13  1.41059533e-12  2.81726007e-11\n",
      "   2.60972552e-16]]\n",
      "0\n",
      "optimal\n",
      "optimal\n",
      "optimal\n",
      "optimal\n",
      "optimal\n",
      "[[ 0.          0.          0.          0.          0.        ]\n",
      " [ 0.          0.0035888   0.01111108 -0.00454582  0.01337767]]\n",
      "[[ 1.36165058e-12  6.79832769e-13 -1.04226140e-10  1.45343540e-13\n",
      "   1.74469841e-10]\n",
      " [ 4.47888318e-13  6.97498087e-11  9.25465402e-13  2.56969834e-11\n",
      "   9.67254055e-17]]\n",
      "0\n",
      "optimal\n",
      "optimal\n",
      "optimal\n",
      "optimal\n",
      "optimal\n",
      "[[ 0.          0.          0.          0.          0.        ]\n",
      " [ 0.         -0.0008713   0.0159961  -0.01472234  0.00560397]]\n",
      "[[ 2.80563524e-12  3.70977938e-13 -9.13947788e-11  1.21728752e-13\n",
      "   1.70825816e-10]\n",
      " [ 1.55685166e-12  9.70278241e-14 -6.29771365e-13  1.01932569e-11\n",
      "   3.97479795e-17]]\n",
      "0\n",
      "optimal\n",
      "optimal\n",
      "optimal\n",
      "optimal\n",
      "optimal\n",
      "[[ 0.          0.          0.          0.          0.        ]\n",
      " [ 0.          0.00257754  0.0324533  -0.01983442  0.01746672]]\n",
      "[[ 7.65906123e-11  4.42088714e-13 -7.98563692e-11 -2.76907468e-12\n",
      "   1.32469495e-10]\n",
      " [ 1.47990781e-11 -2.13668957e-12 -1.43171250e-12  1.12682239e-10\n",
      "   2.23117953e-17]]\n",
      "0\n",
      "optimal\n",
      "optimal\n",
      "optimal\n",
      "optimal\n",
      "optimal\n",
      "[[ 0.          0.          0.          0.          0.        ]\n",
      " [ 0.          0.01168132  0.03816247 -0.01906117  0.02619928]]\n",
      "[[ 4.32748471e-11 -2.93801352e-12 -7.90315917e-11 -1.16138883e-12\n",
      "   1.18062984e-10]\n",
      " [ 1.17601989e-11  3.62590510e-11 -1.97496998e-12  7.04118684e-11\n",
      "   1.11008552e-17]]\n",
      "0\n",
      "optimal\n",
      "optimal\n",
      "optimal\n",
      "optimal\n",
      "optimal\n",
      "[[ 0.          0.          0.          0.          0.        ]\n",
      " [ 0.          0.02089596  0.01511204 -0.01411005  0.01076519]]\n",
      "[[ 1.34262486e-11  8.71749182e-14 -7.77744920e-11 -3.56528029e-13\n",
      "   1.04895076e-10]\n",
      " [ 6.77917226e-12  3.76994964e-12 -3.11598274e-12  5.74853343e-11\n",
      "   3.80857065e-18]]\n",
      "0\n",
      "optimal\n",
      "optimal\n",
      "optimal\n",
      "optimal\n",
      "optimal\n",
      "[[ 0.          0.          0.          0.          0.        ]\n",
      " [ 0.          0.02440321 -0.00673187 -0.00814029 -0.00352463]]\n",
      "[[-3.49185850e-12  7.69512898e-13 -7.27033928e-11  1.90253163e-15\n",
      "   6.89886575e-11]\n",
      " [ 2.76837078e-12 -4.58572318e-12 -3.09838567e-12  3.40970874e-11\n",
      "   4.13309162e-18]]\n",
      "0\n",
      "optimal\n",
      "optimal\n",
      "optimal\n",
      "optimal\n",
      "optimal\n",
      "[[ 0.          0.          0.          0.          0.        ]\n",
      " [ 0.          0.01837701  0.00175953 -0.0047163   0.00811149]]\n",
      "[[ 1.34549257e-10  6.60639168e-13 -1.57466174e-10  2.59259962e-13\n",
      "   5.02082077e-11]\n",
      " [-2.84134958e-12  4.72482708e-11  2.51981976e-13  2.07451039e-11\n",
      "   1.29316917e-17]]\n",
      "0\n",
      "optimal\n",
      "optimal\n",
      "optimal\n",
      "optimal\n",
      "optimal\n",
      "[[ 0.          0.          0.          0.          0.        ]\n",
      " [ 0.          0.00152773  0.02433193 -0.00769456  0.03083961]]\n",
      "[[ 7.43804936e-12  4.30048224e-13 -5.91309597e-11  3.43396955e-13\n",
      "   4.83023957e-11]\n",
      " [ 1.31763578e-12  6.01148431e-12 -1.74300954e-12  2.54893889e-11\n",
      "   1.05096865e-19]]\n",
      "0\n",
      "optimal\n",
      "optimal\n",
      "optimal\n",
      "optimal\n",
      "optimal\n",
      "[[ 0.          0.          0.          0.          0.        ]\n",
      " [ 0.         -0.02536656  0.03039506 -0.02146227  0.03740016]]\n",
      "[[-4.16666667e+00  6.13014273e-12  4.16666667e+00  8.29358734e-12\n",
      "  -4.16666667e+00]\n",
      " [-3.89864890e-11 -4.16666667e+00  3.58475563e-11 -4.16666667e+00\n",
      "  -1.70684303e-15]]\n"
     ]
    }
   ],
   "source": [
    "k0 = 0\n",
    "x = x_init\n",
    "all_x = [x]\n",
    "all_u = []\n",
    "eps = 1e-3\n",
    "sigma = 0.8\n",
    "num_iter = 0\n",
    "while True:\n",
    "    x_nom, u_nom, all_cost = Swarm_SCP(A, B, num_agent, x, x_fin, Umax, Vmax, T, dt, R_col, R_com, priority, True)\n",
    "#     downwash_effct = downwash(x[0, 0] - x[0, 1], np.abs(x[2, 0] - x[2, 1]), sigma)\n",
    "#     disturbance = np.zeros((num_agent, 2))\n",
    "#     disturbance[1, 0] = downwash_effct\n",
    "#     compensator = np.zeros_like(disturbance)\n",
    "#     compensator[1,0] = nnet.predict(np.array([x[0, 0] - x[0, 1], np.abs(x[2, 0] - x[2, 1])]).reshape(1,2))\n",
    "#     pos_diff = compute_all_pos_diff(x)\n",
    "    dx, dy = compute_pos_diff_matrix(x[0,:],x[2,:])\n",
    "    W = compute_dist_comp_matrix(dy)\n",
    "    disturbance = compute_dist_comp_mat(W,dx,dy).T\n",
    "    dist = np.concatenate((np.zeros((1,5)),disturbance),axis=0)\n",
    "    print(dist)\n",
    "    print(u_nom[:, :, 0].T)\n",
    "#     print(compute_dist_comp_matrix(x,pos_diff,sigma))\n",
    "#     x = A@x+B@(u_nom[:,:,0].T + 2*compute_dist_comp_matrix(x,pos_diff,sigma))\n",
    "    x = A@x+B@(u_nom[:,:,0].T)# + 2*dist\n",
    "    all_x.append(x)\n",
    "    all_u.append(u_nom[:,:,0].T)\n",
    "    if np.all(x-x_fin <= eps): break\n",
    "    T -= 1\n",
    "    if T == 1: raise Exception(\"Planning horizon not long enough\")"
   ]
  },
  {
   "cell_type": "code",
   "execution_count": 16,
   "metadata": {},
   "outputs": [
    {
     "name": "stdout",
     "output_type": "stream",
     "text": [
      "(14, 4, 5)\n"
     ]
    },
    {
     "data": {
      "image/png": "[encoded data removed]",
      "text/plain": [
       "<Figure size 432x288 with 1 Axes>"
      ]
     },
     "metadata": {
      "needs_background": "light"
     },
     "output_type": "display_data"
    }
   ],
   "source": [
    "x = np.array(all_x)\n",
    "print(x.shape)\n",
    "for i in range(num_agent):\n",
    "    plt.scatter(x[:,0,i],x[:,2,i])"
   ]
  },
  {
   "cell_type": "code",
   "execution_count": 18,
   "metadata": {},
   "outputs": [],
   "source": [
    "np.savetxt('mpc_dist_no_comp_dist.txt',x.reshape(14,-1),delimiter='\\t')"
   ]
  },
  {
   "cell_type": "code",
   "execution_count": null,
   "metadata": {
    "collapsed": true,
    "jupyter": {
     "outputs_hidden": true
    }
   },
   "outputs": [],
   "source": [
    "k0 = 0\n",
    "x = x_init\n",
    "all_x = [x]\n",
    "all_u = []\n",
    "eps = 1e-3\n",
    "sigma = 0.8\n",
    "K = np.zeros((2,4))\n",
    "K[1,3] = 1\n",
    "while True:\n",
    "    downwash_effct = downwash(x[0, 0] - x[0, 1], np.abs(x[2, 0] - x[2, 1]), sigma)\n",
    "#     print(x[0, 0] - x[0, 1],np.abs(x[2, 0] - x[2, 1]))\n",
    "    disturbance = np.zeros((num_agent, 2))\n",
    "    disturbance[1, 0] = downwash_effct\n",
    "    u_nom = np.array([[2, 0],[0, 0]])\n",
    "    print(downwash_effct,2.935402561181967**2*compensator[1,0])\n",
    "    x = A@x+B@(u_nom.T + 2*disturbance)\n",
    "    all_x.append(x)\n",
    "    if x[0,0] >= 30: break"
   ]
  },
  {
   "cell_type": "code",
   "execution_count": null,
   "metadata": {
    "collapsed": true,
    "jupyter": {
     "outputs_hidden": true
    }
   },
   "outputs": [],
   "source": [
    "x = np.array(all_x)\n",
    "print(x.shape)\n",
    "for i in range(num_agent):\n",
    "    plt.scatter(x[:,0,i],x[:,2,i])\n",
    "print(x[-1])\n",
    "plt.ylim([19,24])"
   ]
  },
  {
   "cell_type": "code",
   "execution_count": null,
   "metadata": {
    "collapsed": true,
    "jupyter": {
     "outputs_hidden": true
    }
   },
   "outputs": [],
   "source": [
    "np.savetxt('swap_nc.txt',x.reshape(18,-1),delimiter='\\t')"
   ]
  },
  {
   "cell_type": "code",
   "execution_count": 10,
   "metadata": {
    "collapsed": true,
    "jupyter": {
     "outputs_hidden": true
    }
   },
   "outputs": [
    {
     "data": {
      "text/plain": [
       "[<matplotlib.lines.Line2D at 0x7f91ff50e950>]"
      ]
     },
     "execution_count": 10,
     "metadata": {},
     "output_type": "execute_result"
    },
    {
     "data": {
      "image/png": "[encoded data removed]",
      "text/plain": [
       "<Figure size 432x288 with 1 Axes>"
      ]
     },
     "metadata": {
      "needs_background": "light"
     },
     "output_type": "display_data"
    }
   ],
   "source": [
    "import tensorflow as tf\n",
    "from tensorflow import keras\n",
    "from tensorflow.keras import layers\n",
    "import numpy as np\n",
    "from keras.models import Sequential\n",
    "from keras.layers import Dense, Conv2D,MaxPool2D,Dropout,Flatten\n",
    "from keras.callbacks import History\n",
    "import matplotlib.pyplot as plt\n",
    "from keras.utils.vis_utils import plot_model\n",
    "from keras.models import load_model\n",
    "from keras.initializers import glorot_uniform\n",
    "import os\n",
    "from matplotlib import pyplot as plt\n",
    "\n",
    "nnet = load_model('my_model_2.h5')\n",
    "\n",
    "N = 1000\n",
    "dx = np.linspace(-2, 2, N).reshape([-1, 1])\n",
    "dy = (np.ones(N)*4).reshape([-1, 1])\n",
    "data_in = np.concatenate((dx, dy), axis = 1)\n",
    "all_x = []\n",
    "for x in dx:\n",
    "    all_x.append(downwash(x,dy[0],0.8))\n",
    "\n",
    "data_out = np.array(all_x)-nnet.predict(data_in)*2.935402561181967**2\n",
    "plt.plot(dx, data_out)\n",
    "\n"
   ]
  },
  {
   "cell_type": "code",
   "execution_count": 8,
   "metadata": {
    "collapsed": true,
    "jupyter": {
     "outputs_hidden": true
    }
   },
   "outputs": [],
   "source": [
    "# def compute_all_pos_diff(x):\n",
    "#     m, num_agent = x.shape\n",
    "#     pos_diff = []\n",
    "#     for i in range(num_agent):\n",
    "#         for j in range(num_agent):\n",
    "#             if j < i:\n",
    "#                 pos_diff.append((x[0,i]-x[0,j],np.abs(x[2,i]-x[2,j])))\n",
    "                \n",
    "                \n",
    "#     return pos_diff\n",
    "\n",
    "# x = np.random.randint(4,size=(4,5))\n",
    "# compute_all_pos_diff(x)"
   ]
  },
  {
   "cell_type": "code",
   "execution_count": 42,
   "metadata": {
    "collapsed": true,
    "jupyter": {
     "outputs_hidden": true
    }
   },
   "outputs": [],
   "source": [
    "# def compute_dist_comp_matrix(pos_diff):\n",
    "#     num_agent = 5\n",
    "#     sigma = 0.8\n",
    "#     dist_comp_matrix = np.zeros((2,5))\n",
    "#     counter = 0\n",
    "#     for i in range(1,num_agent):\n",
    "#         disturbance = 0\n",
    "#         compensation = 0\n",
    "#         for k in range(i):\n",
    "#             disturbance += downwash(pos_diff[counter][0],pos_diff[counter][1],sigma)\n",
    "#             compensation += nnet.predict(np.array(pos_diff[counter]).reshape(1,2))\n",
    "#             counter += 1\n",
    "#         dist_comp_matrix[1,i] = disturbance\n",
    "#     return dist_comp_matrix\n",
    "\n",
    "# compute_dist_comp_matrix(compute_all_pos_diff(x))\n",
    "\n",
    "# def compute_all_pos_diff(x):\n",
    "#     m, num_agent = x.shape\n",
    "#     pos_diff_dict = {}\n",
    "#     for i in range(num_agent):\n",
    "#         pos_diff_dict[i] = []\n",
    "#         for j in range(num_agent):\n",
    "#             if x[2, i] - x[2, j] < 0:\n",
    "#                 pos_diff_dict[i].append((x[0, i] - x[0, j], np.abs(x[2, i] - x[2, j])))\n",
    "#     return pos_diff_dict\n",
    "\n",
    "# def compute_dist_comp_matrix(x, dict_pos_diff, sigma):\n",
    "#     m, num_agent = x.shape\n",
    "#     dist_matrix = np.zeros((2, num_agent))\n",
    "#     for agent in range(num_agent):\n",
    "#         for i in range(len(dict_pos_diff[agent])):\n",
    "#             downwash_effect = downwash(dict_pos_diff[agent][i][0], dict_pos_diff[agent][i][1], sigma)\n",
    "#             dist_matrix[1, agent] += downwash_effect\n",
    "#             compensation = nnet.predict(np.array([dict_pos_diff[agent][i][0], dict_pos_diff[agent][i][1]]).reshape(1,2))\n",
    "#             dist_matrix[1, agent] -= 2.935402561181967**2*compensation\n",
    "#     return dist_matrix"
   ]
  },
  {
   "cell_type": "code",
   "execution_count": 13,
   "metadata": {
    "collapsed": true,
    "jupyter": {
     "outputs_hidden": true
    }
   },
   "outputs": [],
   "source": [
    "def compute_dist_comp_matrix(pos_diff_y):\n",
    "    num_agents = 5\n",
    "    W = np.zeros((num_agents, num_agents))\n",
    "    for ii in range(num_agents):\n",
    "        for jj in range(num_agents):\n",
    "            if pos_diff_y[ii, jj] > 0:\n",
    "                W[ii, jj] = 1\n",
    "            else:\n",
    "                W[ii, jj] = 0\n",
    "    return W\n",
    "\n",
    "\n",
    "def compute_pos_diff_matrix(x, y):\n",
    "    num_agents = 5\n",
    "    del_x = np.zeros((num_agents, num_agents))\n",
    "    del_y = np.zeros((num_agents, num_agents))\n",
    "    for ii in range(num_agents):\n",
    "        for jj in range(num_agents):\n",
    "            del_x[ii, jj] = x[jj] - x[ii]\n",
    "            del_y[ii, jj] = y[jj] - y[ii]\n",
    "            \n",
    "    return del_x, del_y\n",
    "\n",
    "\n",
    "def compute_dist_comp_mat(W, dx, dy):\n",
    "    num_agents = 5\n",
    "    dist_comp_mat = np.zeros((num_agents, num_agents))\n",
    "    for ii in range(num_agents):\n",
    "        for jj in range(num_agents):\n",
    "            dist = downwash(dx[ii, jj], dy[ii, jj], 0.8)\n",
    "            comp = nnet.predict(np.array([dx[ii, jj], dy[ii, jj]]).reshape(1,2))\n",
    "            dist_comp_mat[ii, jj] = W[ii, jj]*(dist - 2.935402561181967**2*comp)\n",
    "    \n",
    "    return dist_comp_mat.sum(axis=1).reshape(-1,1)\n",
    "\n",
    "# def compute_tot_dist_comp(M):\n",
    "#     return M.sum(axis=1).reshape(-1,1)"
   ]
  },
  {
   "cell_type": "code",
   "execution_count": null,
   "metadata": {
    "collapsed": true,
    "jupyter": {
     "outputs_hidden": true
    }
   },
   "outputs": [],
   "source": []
  }
 ],
 "metadata": {
  "kernelspec": {
   "display_name": "Python 3",
   "language": "python",
   "name": "python3"
  },
  "language_info": {
   "codemirror_mode": {
    "name": "ipython",
    "version": 3
   },
   "file_extension": ".py",
   "mimetype": "text/x-python",
   "name": "python",
   "nbconvert_exporter": "python",
   "pygments_lexer": "ipython3",
   "version": "3.7.4"
  }
 },
 "nbformat": 4,
 "nbformat_minor": 5
}
